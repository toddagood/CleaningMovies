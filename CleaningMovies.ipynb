{
 "cells": [
  {
   "cell_type": "markdown",
   "id": "636fbf42-7fb0-4972-a3bd-fe4de3735128",
   "metadata": {},
   "source": [
    "# Cleaning the Movies Dataset"
   ]
  },
  {
   "cell_type": "markdown",
   "id": "779fb375-6b01-493a-a94d-9651efe4112a",
   "metadata": {
    "jp-MarkdownHeadingCollapsed": true,
    "tags": []
   },
   "source": [
    "Import the movies dataset, which was scraped from the [IMDb Top 250 Movies](https://www.imdb.com/chart/top/) site on 10/30/2022 at 10:58pm EDT.  Specify the expected data type for each column so that missing and bad values will be detected."
   ]
  },
  {
   "cell_type": "code",
   "execution_count": 1,
   "id": "cc382b5c-65a4-447d-86e3-24d822122ad5",
   "metadata": {},
   "outputs": [],
   "source": [
    "import pandas"
   ]
  },
  {
   "cell_type": "code",
   "execution_count": 2,
   "id": "a3e3c535-5ca6-43ca-a525-a2181bb0d03b",
   "metadata": {},
   "outputs": [],
   "source": [
    "movies = pandas.read_csv(\"movies.csv\",\n",
    "                         dtype={'rank': int,\n",
    "                                'title': str,\n",
    "                                'year': int,\n",
    "                                'rating': float})"
   ]
  },
  {
   "cell_type": "markdown",
   "id": "1d63b84f-6788-4bd7-bbf3-83bb7e153697",
   "metadata": {},
   "source": [
    "Take a brief look at the data."
   ]
  },
  {
   "cell_type": "code",
   "execution_count": 3,
   "id": "4cd958af-3ccf-46d7-8421-f7ab235b9406",
   "metadata": {},
   "outputs": [
    {
     "data": {
      "text/html": [
       "<div>\n",
       "<style scoped>\n",
       "    .dataframe tbody tr th:only-of-type {\n",
       "        vertical-align: middle;\n",
       "    }\n",
       "\n",
       "    .dataframe tbody tr th {\n",
       "        vertical-align: top;\n",
       "    }\n",
       "\n",
       "    .dataframe thead th {\n",
       "        text-align: right;\n",
       "    }\n",
       "</style>\n",
       "<table border=\"1\" class=\"dataframe\">\n",
       "  <thead>\n",
       "    <tr style=\"text-align: right;\">\n",
       "      <th></th>\n",
       "      <th>rank</th>\n",
       "      <th>title</th>\n",
       "      <th>year</th>\n",
       "      <th>rating</th>\n",
       "    </tr>\n",
       "  </thead>\n",
       "  <tbody>\n",
       "    <tr>\n",
       "      <th>0</th>\n",
       "      <td>1</td>\n",
       "      <td>The Shawshank Redemption</td>\n",
       "      <td>1994</td>\n",
       "      <td>9.2</td>\n",
       "    </tr>\n",
       "    <tr>\n",
       "      <th>1</th>\n",
       "      <td>2</td>\n",
       "      <td>The Godfather</td>\n",
       "      <td>1972</td>\n",
       "      <td>9.2</td>\n",
       "    </tr>\n",
       "    <tr>\n",
       "      <th>2</th>\n",
       "      <td>3</td>\n",
       "      <td>The Dark Knight</td>\n",
       "      <td>2008</td>\n",
       "      <td>9.0</td>\n",
       "    </tr>\n",
       "    <tr>\n",
       "      <th>3</th>\n",
       "      <td>4</td>\n",
       "      <td>The Godfather Part II</td>\n",
       "      <td>1974</td>\n",
       "      <td>9.0</td>\n",
       "    </tr>\n",
       "    <tr>\n",
       "      <th>4</th>\n",
       "      <td>5</td>\n",
       "      <td>12 Angry Men</td>\n",
       "      <td>1957</td>\n",
       "      <td>9.0</td>\n",
       "    </tr>\n",
       "    <tr>\n",
       "      <th>...</th>\n",
       "      <td>...</td>\n",
       "      <td>...</td>\n",
       "      <td>...</td>\n",
       "      <td>...</td>\n",
       "    </tr>\n",
       "    <tr>\n",
       "      <th>245</th>\n",
       "      <td>246</td>\n",
       "      <td>Dersu Uzala</td>\n",
       "      <td>1975</td>\n",
       "      <td>8.0</td>\n",
       "    </tr>\n",
       "    <tr>\n",
       "      <th>246</th>\n",
       "      <td>247</td>\n",
       "      <td>The Help</td>\n",
       "      <td>2011</td>\n",
       "      <td>8.0</td>\n",
       "    </tr>\n",
       "    <tr>\n",
       "      <th>247</th>\n",
       "      <td>248</td>\n",
       "      <td>Gandhi</td>\n",
       "      <td>1982</td>\n",
       "      <td>8.0</td>\n",
       "    </tr>\n",
       "    <tr>\n",
       "      <th>248</th>\n",
       "      <td>249</td>\n",
       "      <td>Aladdin</td>\n",
       "      <td>1992</td>\n",
       "      <td>8.0</td>\n",
       "    </tr>\n",
       "    <tr>\n",
       "      <th>249</th>\n",
       "      <td>250</td>\n",
       "      <td>The Iron Giant</td>\n",
       "      <td>1999</td>\n",
       "      <td>8.0</td>\n",
       "    </tr>\n",
       "  </tbody>\n",
       "</table>\n",
       "<p>250 rows × 4 columns</p>\n",
       "</div>"
      ],
      "text/plain": [
       "     rank                     title  year  rating\n",
       "0       1  The Shawshank Redemption  1994     9.2\n",
       "1       2             The Godfather  1972     9.2\n",
       "2       3           The Dark Knight  2008     9.0\n",
       "3       4     The Godfather Part II  1974     9.0\n",
       "4       5              12 Angry Men  1957     9.0\n",
       "..    ...                       ...   ...     ...\n",
       "245   246               Dersu Uzala  1975     8.0\n",
       "246   247                  The Help  2011     8.0\n",
       "247   248                    Gandhi  1982     8.0\n",
       "248   249                   Aladdin  1992     8.0\n",
       "249   250            The Iron Giant  1999     8.0\n",
       "\n",
       "[250 rows x 4 columns]"
      ]
     },
     "execution_count": 3,
     "metadata": {},
     "output_type": "execute_result"
    }
   ],
   "source": [
    "movies"
   ]
  },
  {
   "cell_type": "markdown",
   "id": "7b708ef2-1024-4aa3-a81a-b0fe7f408fc1",
   "metadata": {},
   "source": [
    "## Check for Missing Data and Bad Values"
   ]
  },
  {
   "cell_type": "markdown",
   "id": "19c49c37-446c-460d-8883-3996731fbbdb",
   "metadata": {},
   "source": [
    "Missing data and bad values are imported as NaN values.  Technically, there is no need to check for NaN values in the *rank* and *year* columns because they were imported as integers and a NaN value cannot be represented as an integer, so any missing or bad data in those columns would have caused the import to fail."
   ]
  },
  {
   "cell_type": "code",
   "execution_count": 4,
   "id": "bf741047-76cb-4d43-9c2d-26c0dbf32164",
   "metadata": {},
   "outputs": [
    {
     "data": {
      "text/plain": [
       "rank        int32\n",
       "title      object\n",
       "year        int32\n",
       "rating    float64\n",
       "dtype: object"
      ]
     },
     "execution_count": 4,
     "metadata": {},
     "output_type": "execute_result"
    }
   ],
   "source": [
    "movies.dtypes"
   ]
  },
  {
   "cell_type": "markdown",
   "id": "6602ebef-4824-4b96-af32-510f3147414c",
   "metadata": {},
   "source": [
    "The *title* and *rating* columns could contain NaN values because they were imported as string and float data, respectively.  Count the number of NaN values in each column."
   ]
  },
  {
   "cell_type": "code",
   "execution_count": 5,
   "id": "c6b1c1db-76c3-4787-a4af-1fae4357d05d",
   "metadata": {},
   "outputs": [
    {
     "data": {
      "text/plain": [
       "rank      0\n",
       "title     0\n",
       "year      0\n",
       "rating    0\n",
       "dtype: int64"
      ]
     },
     "execution_count": 5,
     "metadata": {},
     "output_type": "execute_result"
    }
   ],
   "source": [
    "movies.isnull().sum()"
   ]
  },
  {
   "cell_type": "markdown",
   "id": "77cc6622-b873-4ecf-9af7-d6ffc125f35e",
   "metadata": {},
   "source": [
    "Good, there were no NaN values in any column.  "
   ]
  },
  {
   "cell_type": "markdown",
   "id": "eeb92bf5-f5e3-440e-820b-cf8343fa37f8",
   "metadata": {},
   "source": [
    "## Check the *rank* Data"
   ]
  },
  {
   "cell_type": "markdown",
   "id": "82a6436b-7a0c-4afc-859e-66f16b2db60e",
   "metadata": {},
   "source": [
    "Check that the movies were ranked from 1 to 250."
   ]
  },
  {
   "cell_type": "code",
   "execution_count": 6,
   "id": "c6d1c569-6a6d-4ec7-8d5e-a83d98fca2d5",
   "metadata": {},
   "outputs": [
    {
     "data": {
      "text/plain": [
       "True"
      ]
     },
     "execution_count": 6,
     "metadata": {},
     "output_type": "execute_result"
    }
   ],
   "source": [
    "(movies['rank'] == pandas.Series(range(1, 251))).all()"
   ]
  },
  {
   "cell_type": "markdown",
   "id": "d76d52bb-2a87-4373-8fc3-a0f451b4fd97",
   "metadata": {},
   "source": [
    "## Check the *year* Data"
   ]
  },
  {
   "cell_type": "markdown",
   "id": "d41bfa26-c2e4-4927-8773-eda30403b09b",
   "metadata": {},
   "source": [
    "Check that *year* values were in the range from 1874 to 2022, because the oldest movie on IMDb was released in 1874, and *year* data cannot be in the future."
   ]
  },
  {
   "cell_type": "code",
   "execution_count": 7,
   "id": "6da48639-da9e-4346-a9c4-6ac982c8db14",
   "metadata": {},
   "outputs": [
    {
     "data": {
      "text/plain": [
       "1921"
      ]
     },
     "execution_count": 7,
     "metadata": {},
     "output_type": "execute_result"
    }
   ],
   "source": [
    "movies['year'].min()"
   ]
  },
  {
   "cell_type": "code",
   "execution_count": 8,
   "id": "e7d95d30-894a-4268-adee-58f30a9bac36",
   "metadata": {},
   "outputs": [
    {
     "data": {
      "text/plain": [
       "2022"
      ]
     },
     "execution_count": 8,
     "metadata": {},
     "output_type": "execute_result"
    }
   ],
   "source": [
    "movies['year'].max()"
   ]
  },
  {
   "cell_type": "code",
   "execution_count": 9,
   "id": "a58bec53-269f-4795-a71a-9262bc438d27",
   "metadata": {},
   "outputs": [
    {
     "data": {
      "text/plain": [
       "True"
      ]
     },
     "execution_count": 9,
     "metadata": {},
     "output_type": "execute_result"
    }
   ],
   "source": [
    "movies['year'].min() >= 1874 and movies['year'].max() <= 2022"
   ]
  },
  {
   "cell_type": "markdown",
   "id": "47a45ee6-6eac-48d9-85e6-d72ac6db7475",
   "metadata": {},
   "source": [
    "## Check the *rating* Data"
   ]
  },
  {
   "cell_type": "markdown",
   "id": "3c8ef452-8e39-4daf-a794-2270db7031ca",
   "metadata": {},
   "source": [
    "Check that *rating* values were in the range from 1 to 10, because every IMDb rating must be in that range."
   ]
  },
  {
   "cell_type": "code",
   "execution_count": 10,
   "id": "39b57995-68d5-47ae-9f00-74c95aae0a81",
   "metadata": {},
   "outputs": [
    {
     "data": {
      "text/plain": [
       "8.0"
      ]
     },
     "execution_count": 10,
     "metadata": {},
     "output_type": "execute_result"
    }
   ],
   "source": [
    "movies['rating'].min()"
   ]
  },
  {
   "cell_type": "code",
   "execution_count": 11,
   "id": "05c90bf9-27f6-4afe-9285-a897e8bd384d",
   "metadata": {},
   "outputs": [
    {
     "data": {
      "text/plain": [
       "9.2"
      ]
     },
     "execution_count": 11,
     "metadata": {},
     "output_type": "execute_result"
    }
   ],
   "source": [
    "movies['rating'].max()"
   ]
  },
  {
   "cell_type": "code",
   "execution_count": 12,
   "id": "f0a9d7a3-ec83-419d-9a58-0beab99d976d",
   "metadata": {},
   "outputs": [
    {
     "data": {
      "text/plain": [
       "True"
      ]
     },
     "execution_count": 12,
     "metadata": {},
     "output_type": "execute_result"
    }
   ],
   "source": [
    "movies['rating'].min() >= 1.0 and movies['rating'].max() <= 10.0"
   ]
  },
  {
   "cell_type": "markdown",
   "id": "56987d13-365d-4cc2-8b15-79516e2196f0",
   "metadata": {},
   "source": [
    "## Check for Duplicate Movies"
   ]
  },
  {
   "cell_type": "markdown",
   "id": "3a9540ce-cb57-4e1a-90f0-7b79b9d99d55",
   "metadata": {},
   "source": [
    "In the movie industry, every movie title is unique within a given release year.  Combine the *title* and *year* columns together and check for duplicate entries."
   ]
  },
  {
   "cell_type": "code",
   "execution_count": 13,
   "id": "5517c389-241e-4758-aa1f-4acf0490cbfd",
   "metadata": {},
   "outputs": [
    {
     "data": {
      "text/plain": [
       "0      The Shawshank Redemption (1994)\n",
       "1                 The Godfather (1972)\n",
       "2               The Dark Knight (2008)\n",
       "3         The Godfather Part II (1974)\n",
       "4                  12 Angry Men (1957)\n",
       "                    ...               \n",
       "245                 Dersu Uzala (1975)\n",
       "246                    The Help (2011)\n",
       "247                      Gandhi (1982)\n",
       "248                     Aladdin (1992)\n",
       "249              The Iron Giant (1999)\n",
       "Length: 250, dtype: string"
      ]
     },
     "execution_count": 13,
     "metadata": {},
     "output_type": "execute_result"
    }
   ],
   "source": [
    "title_with_year = movies['title'] + \" (\" + movies['year'].astype(\"string\") + \")\"\n",
    "title_with_year"
   ]
  },
  {
   "cell_type": "code",
   "execution_count": 14,
   "id": "b25c6271-8a6f-4c50-af00-0c5caa2b3382",
   "metadata": {},
   "outputs": [
    {
     "data": {
      "text/plain": [
       "False"
      ]
     },
     "execution_count": 14,
     "metadata": {},
     "output_type": "execute_result"
    }
   ],
   "source": [
    "title_with_year.duplicated().any()"
   ]
  },
  {
   "cell_type": "markdown",
   "id": "a2eeaf83-f0e4-44af-92e2-d6eef6399be7",
   "metadata": {},
   "source": [
    "Good, every movie was unique."
   ]
  },
  {
   "cell_type": "markdown",
   "id": "9ba8586d-ab57-4662-abb8-593fd1d96ac5",
   "metadata": {},
   "source": [
    "# Descriptive Statistics for Numeric Movie Data"
   ]
  },
  {
   "cell_type": "code",
   "execution_count": 15,
   "id": "f2392459-6806-4007-9c11-82096ebe0402",
   "metadata": {},
   "outputs": [
    {
     "data": {
      "text/html": [
       "<div>\n",
       "<style scoped>\n",
       "    .dataframe tbody tr th:only-of-type {\n",
       "        vertical-align: middle;\n",
       "    }\n",
       "\n",
       "    .dataframe tbody tr th {\n",
       "        vertical-align: top;\n",
       "    }\n",
       "\n",
       "    .dataframe thead th {\n",
       "        text-align: right;\n",
       "    }\n",
       "</style>\n",
       "<table border=\"1\" class=\"dataframe\">\n",
       "  <thead>\n",
       "    <tr style=\"text-align: right;\">\n",
       "      <th></th>\n",
       "      <th>rank</th>\n",
       "      <th>year</th>\n",
       "      <th>rating</th>\n",
       "    </tr>\n",
       "  </thead>\n",
       "  <tbody>\n",
       "    <tr>\n",
       "      <th>count</th>\n",
       "      <td>250.00</td>\n",
       "      <td>250.00</td>\n",
       "      <td>250.00</td>\n",
       "    </tr>\n",
       "    <tr>\n",
       "      <th>mean</th>\n",
       "      <td>125.50</td>\n",
       "      <td>1986.49</td>\n",
       "      <td>8.25</td>\n",
       "    </tr>\n",
       "    <tr>\n",
       "      <th>std</th>\n",
       "      <td>72.31</td>\n",
       "      <td>25.23</td>\n",
       "      <td>0.24</td>\n",
       "    </tr>\n",
       "    <tr>\n",
       "      <th>min</th>\n",
       "      <td>1.00</td>\n",
       "      <td>1921.00</td>\n",
       "      <td>8.00</td>\n",
       "    </tr>\n",
       "    <tr>\n",
       "      <th>25%</th>\n",
       "      <td>63.25</td>\n",
       "      <td>1966.25</td>\n",
       "      <td>8.10</td>\n",
       "    </tr>\n",
       "    <tr>\n",
       "      <th>50%</th>\n",
       "      <td>125.50</td>\n",
       "      <td>1994.00</td>\n",
       "      <td>8.20</td>\n",
       "    </tr>\n",
       "    <tr>\n",
       "      <th>75%</th>\n",
       "      <td>187.75</td>\n",
       "      <td>2006.75</td>\n",
       "      <td>8.40</td>\n",
       "    </tr>\n",
       "    <tr>\n",
       "      <th>max</th>\n",
       "      <td>250.00</td>\n",
       "      <td>2022.00</td>\n",
       "      <td>9.20</td>\n",
       "    </tr>\n",
       "  </tbody>\n",
       "</table>\n",
       "</div>"
      ],
      "text/plain": [
       "         rank     year  rating\n",
       "count  250.00   250.00  250.00\n",
       "mean   125.50  1986.49    8.25\n",
       "std     72.31    25.23    0.24\n",
       "min      1.00  1921.00    8.00\n",
       "25%     63.25  1966.25    8.10\n",
       "50%    125.50  1994.00    8.20\n",
       "75%    187.75  2006.75    8.40\n",
       "max    250.00  2022.00    9.20"
      ]
     },
     "execution_count": 15,
     "metadata": {},
     "output_type": "execute_result"
    }
   ],
   "source": [
    "movies.describe().round(2)"
   ]
  },
  {
   "cell_type": "markdown",
   "id": "4ab57a1a-2c6a-4b87-bbf9-99fed687279e",
   "metadata": {},
   "source": [
    "Note that **std** indicated standard deviation and percentages indicated quartiles."
   ]
  },
  {
   "cell_type": "markdown",
   "id": "035f9311-9893-4f53-b7ed-1257a0a467b7",
   "metadata": {},
   "source": [
    "# Descriptive Statistics for String Movie Data"
   ]
  },
  {
   "cell_type": "code",
   "execution_count": 16,
   "id": "ced9f4a3-de70-40c6-b482-023ed28290da",
   "metadata": {},
   "outputs": [
    {
     "data": {
      "text/html": [
       "<div>\n",
       "<style scoped>\n",
       "    .dataframe tbody tr th:only-of-type {\n",
       "        vertical-align: middle;\n",
       "    }\n",
       "\n",
       "    .dataframe tbody tr th {\n",
       "        vertical-align: top;\n",
       "    }\n",
       "\n",
       "    .dataframe thead th {\n",
       "        text-align: right;\n",
       "    }\n",
       "</style>\n",
       "<table border=\"1\" class=\"dataframe\">\n",
       "  <thead>\n",
       "    <tr style=\"text-align: right;\">\n",
       "      <th></th>\n",
       "      <th>title</th>\n",
       "    </tr>\n",
       "  </thead>\n",
       "  <tbody>\n",
       "    <tr>\n",
       "      <th>count</th>\n",
       "      <td>250</td>\n",
       "    </tr>\n",
       "    <tr>\n",
       "      <th>unique</th>\n",
       "      <td>250</td>\n",
       "    </tr>\n",
       "    <tr>\n",
       "      <th>top</th>\n",
       "      <td>The Shawshank Redemption</td>\n",
       "    </tr>\n",
       "    <tr>\n",
       "      <th>freq</th>\n",
       "      <td>1</td>\n",
       "    </tr>\n",
       "  </tbody>\n",
       "</table>\n",
       "</div>"
      ],
      "text/plain": [
       "                           title\n",
       "count                        250\n",
       "unique                       250\n",
       "top     The Shawshank Redemption\n",
       "freq                           1"
      ]
     },
     "execution_count": 16,
     "metadata": {},
     "output_type": "execute_result"
    }
   ],
   "source": [
    "movies.describe(include=['O'])"
   ]
  },
  {
   "cell_type": "markdown",
   "id": "655c7172-355d-4226-8e02-f74abcf985bb",
   "metadata": {},
   "source": [
    "Note that **top** indicated the most frequent *title* and **freq** indicated the frequency of that *title*."
   ]
  },
  {
   "cell_type": "markdown",
   "id": "407cdc0a-f8bc-4304-bee1-c032280077d2",
   "metadata": {},
   "source": [
    "The results showed that all of the *title* entries were unique, regardless of the *year* of release."
   ]
  }
 ],
 "metadata": {
  "kernelspec": {
   "display_name": "Python 3 (ipykernel)",
   "language": "python",
   "name": "python3"
  },
  "language_info": {
   "codemirror_mode": {
    "name": "ipython",
    "version": 3
   },
   "file_extension": ".py",
   "mimetype": "text/x-python",
   "name": "python",
   "nbconvert_exporter": "python",
   "pygments_lexer": "ipython3",
   "version": "3.9.13"
  }
 },
 "nbformat": 4,
 "nbformat_minor": 5
}
